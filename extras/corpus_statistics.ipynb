{
 "cells": [
  {
   "cell_type": "code",
   "execution_count": 12,
   "metadata": {
    "collapsed": true,
    "ExecuteTime": {
     "end_time": "2023-08-31T14:55:58.992778376Z",
     "start_time": "2023-08-31T14:55:57.423349364Z"
    }
   },
   "outputs": [],
   "source": [
    "import json\n",
    "from pathlib import Path\n",
    "import seaborn as sns"
   ]
  },
  {
   "cell_type": "code",
   "execution_count": 33,
   "outputs": [],
   "source": [
    "data = json.loads(Path(\"../data/preprocessed/amr30-en-dedupe-rm_wiki-fixed-norma_punct-detok-rm_bracket-repl_ents/corpus_statistics.json\").read_text(encoding=\"utf-8\"))"
   ],
   "metadata": {
    "collapsed": false,
    "ExecuteTime": {
     "end_time": "2023-08-31T15:07:49.949866969Z",
     "start_time": "2023-08-31T15:07:49.892894771Z"
    }
   }
  },
  {
   "cell_type": "code",
   "execution_count": 34,
   "outputs": [
    {
     "name": "stdout",
     "output_type": "stream",
     "text": [
      "DATASET INFO\n",
      "============\n",
      "*** TEST ***\n",
      "No. samples: 1,811\n",
      "Longest sequence of white-spaced tokens: 158\n",
      "*** TRAIN ***\n",
      "No. samples: 51,861\n",
      "Longest sequence of white-spaced tokens: 216\n",
      "*** VALIDATION ***\n",
      "No. samples: 1,645\n",
      "Longest sequence of white-spaced tokens: 119\n"
     ]
    }
   ],
   "source": [
    "import pandas as pd\n",
    "\n",
    "dataset_info = data.pop(\"dataset\")\n",
    "print(\"DATASET INFO\\n============\")\n",
    "dataset_lengths = []\n",
    "for split_type, split_data in dataset_info.items():\n",
    "    print(f\"*** {split_type.upper()} ***\")\n",
    "    print(f\"No. samples: {split_data['num_samples']:,}\")\n",
    "    print(f\"Longest sequence of white-spaced tokens: {split_data['max_num_ws_tokens']:,}\")\n",
    "    dataset_lengths = [{\"split_type\": split_type, \"num_ws_tokens\": num_ws_tokens} for num_ws_tokens in split_data[\"num_ws_tokens\"]]\n",
    "    dataset_lengths = pd.DataFrame(dataset_lengths)\n",
    "    # sns.displot(dataset_lengths, x=\"num_ws_tokens\")"
   ],
   "metadata": {
    "collapsed": false,
    "ExecuteTime": {
     "end_time": "2023-08-31T15:07:50.967637542Z",
     "start_time": "2023-08-31T15:07:50.953687826Z"
    }
   }
  },
  {
   "cell_type": "code",
   "execution_count": 35,
   "outputs": [],
   "source": [
    "df_data = []\n",
    "for tokenizer_name, splitsd in data.items():\n",
    "    max_length = splitsd.pop(\"max_length\")\n",
    "    for split_type, stats in splitsd.items():\n",
    "        df_data.append({\n",
    "            \"tokenizer\": tokenizer_name,\n",
    "            \"max_length\": max_length,\n",
    "            \"split_type\": split_type,\n",
    "            **stats\n",
    "        })\n",
    "df = pd.DataFrame(df_data)"
   ],
   "metadata": {
    "collapsed": false,
    "ExecuteTime": {
     "end_time": "2023-08-31T15:07:58.193499296Z",
     "start_time": "2023-08-31T15:07:58.191413599Z"
    }
   }
  },
  {
   "cell_type": "code",
   "execution_count": 36,
   "outputs": [
    {
     "data": {
      "text/plain": "                                  tokenizer  max_length  split_type  \\\n0                    bigscience/bloomz-560m        2048        test   \n1                    bigscience/bloomz-560m        2048       train   \n2                    bigscience/bloomz-560m        2048  validation   \n3                 facebook/mbart-large-cc25        1024        test   \n4                 facebook/mbart-large-cc25        1024       train   \n5                 facebook/mbart-large-cc25        1024  validation   \n6   facebook/mbart-large-50-many-to-one-mmt        1024        test   \n7   facebook/mbart-large-50-many-to-one-mmt        1024       train   \n8   facebook/mbart-large-50-many-to-one-mmt        1024  validation   \n9                           google/mt5-base        1024        test   \n10                          google/mt5-base        1024       train   \n11                          google/mt5-base        1024  validation   \n12                                  t5-base         512        test   \n13                                  t5-base         512       train   \n14                                  t5-base         512  validation   \n15                   facebook/nllb-200-3.3B        1024        test   \n16                   facebook/nllb-200-3.3B        1024       train   \n17                   facebook/nllb-200-3.3B        1024  validation   \n18                      google/flan-t5-base         512        test   \n19                      google/flan-t5-base         512       train   \n20                      google/flan-t5-base         512  validation   \n\n    max_subwordtok_len_sents  \\\n0                        250   \n1                        232   \n2                        144   \n3                        301   \n4                        256   \n5                        159   \n6                        301   \n7                        256   \n8                        159   \n9                        278   \n10                       300   \n11                       180   \n12                       276   \n13                       257   \n14                       161   \n15                       286   \n16                       257   \n17                       158   \n18                       276   \n19                       257   \n20                       161   \n\n                                subwordtok_lens_sents  num_sent_gt_maxlength  \\\n0   [1, 1, 2, 2, 2, 2, 2, 2, 2, 3, 3, 3, 3, 3, 3, ...                      0   \n1   [1, 1, 1, 1, 1, 1, 1, 1, 1, 1, 1, 1, 1, 1, 1, ...                      0   \n2   [1, 2, 2, 2, 2, 2, 2, 3, 3, 3, 3, 3, 3, 3, 3, ...                      0   \n3   [3, 3, 3, 4, 4, 4, 4, 4, 4, 5, 5, 5, 5, 5, 5, ...                      0   \n4   [3, 3, 3, 3, 3, 3, 3, 3, 3, 3, 3, 3, 3, 3, 3, ...                      0   \n5   [3, 4, 4, 4, 4, 4, 5, 5, 5, 5, 5, 5, 5, 5, 5, ...                      0   \n6   [3, 3, 3, 4, 4, 4, 4, 4, 4, 5, 5, 5, 5, 5, 5, ...                      0   \n7   [3, 3, 3, 3, 3, 3, 3, 3, 3, 3, 3, 3, 3, 3, 3, ...                      0   \n8   [3, 4, 4, 4, 4, 4, 5, 5, 5, 5, 5, 5, 5, 5, 5, ...                      0   \n9   [2, 2, 2, 3, 3, 3, 3, 3, 3, 3, 3, 3, 3, 3, 3, ...                      0   \n10  [2, 2, 2, 2, 2, 2, 2, 2, 2, 2, 2, 2, 2, 2, 2, ...                      0   \n11  [2, 3, 3, 3, 3, 3, 3, 3, 3, 3, 3, 3, 3, 3, 3, ...                      0   \n12  [2, 3, 3, 3, 3, 3, 3, 3, 4, 4, 4, 4, 4, 4, 4, ...                      0   \n13  [2, 2, 2, 2, 2, 2, 2, 2, 2, 2, 2, 2, 2, 2, 2, ...                      0   \n14  [2, 3, 3, 3, 3, 3, 3, 4, 4, 4, 4, 4, 4, 4, 4, ...                      0   \n15  [3, 3, 3, 4, 4, 4, 4, 4, 5, 5, 5, 5, 5, 5, 5, ...                      0   \n16  [3, 3, 3, 3, 3, 3, 3, 3, 3, 3, 3, 3, 3, 3, 3, ...                      0   \n17  [3, 4, 4, 4, 4, 5, 5, 5, 5, 5, 5, 5, 5, 5, 5, ...                      0   \n18  [2, 3, 3, 3, 3, 3, 3, 3, 4, 4, 4, 4, 4, 4, 4, ...                      0   \n19  [2, 2, 2, 2, 2, 2, 2, 2, 2, 2, 2, 2, 2, 2, 2, ...                      0   \n20  [2, 3, 3, 3, 3, 3, 3, 4, 4, 4, 4, 4, 4, 4, 4, ...                      0   \n\n    max_subwordtok_len_labels  \\\n0                         797   \n1                         807   \n2                         500   \n3                         813   \n4                         822   \n5                         513   \n6                         813   \n7                         822   \n8                         513   \n9                         817   \n10                        824   \n11                        515   \n12                        819   \n13                        810   \n14                        512   \n15                        809   \n16                        827   \n17                        512   \n18                        819   \n19                        810   \n20                        512   \n\n                               subwordtok_lens_labels  num_lbl_gt_maxlength  \n0   [4, 4, 4, 5, 6, 8, 8, 9, 9, 9, 9, 9, 9, 9, 9, ...                     0  \n1   [4, 4, 4, 4, 4, 4, 4, 4, 4, 4, 4, 4, 4, 4, 4, ...                     0  \n2   [4, 4, 4, 4, 4, 4, 9, 9, 9, 9, 9, 9, 10, 10, 1...                     0  \n3   [6, 6, 6, 8, 9, 9, 11, 11, 11, 11, 11, 11, 11,...                     0  \n4   [6, 6, 6, 6, 6, 6, 6, 6, 6, 6, 6, 6, 6, 6, 6, ...                     0  \n5   [6, 6, 6, 6, 6, 6, 11, 11, 11, 11, 11, 11, 12,...                     0  \n6   [6, 6, 6, 8, 9, 9, 11, 11, 11, 11, 11, 11, 11,...                     0  \n7   [6, 6, 6, 6, 6, 6, 6, 6, 6, 6, 6, 6, 6, 6, 6, ...                     0  \n8   [6, 6, 6, 6, 6, 6, 11, 11, 11, 11, 11, 11, 12,...                     0  \n9   [5, 5, 5, 6, 7, 8, 9, 9, 10, 10, 10, 10, 11, 1...                     0  \n10  [5, 5, 5, 5, 5, 5, 5, 5, 5, 5, 5, 5, 5, 5, 5, ...                     0  \n11  [5, 5, 5, 5, 5, 5, 10, 10, 10, 10, 11, 11, 11,...                     0  \n12  [5, 5, 5, 7, 8, 8, 9, 9, 10, 10, 10, 10, 10, 1...                     3  \n13  [5, 5, 5, 5, 5, 5, 5, 5, 5, 5, 5, 5, 5, 5, 5, ...                    11  \n14  [5, 5, 5, 5, 5, 5, 10, 10, 10, 10, 10, 11, 11,...                     0  \n15  [6, 6, 6, 8, 8, 9, 10, 10, 11, 11, 11, 11, 11,...                     0  \n16  [6, 6, 6, 6, 6, 6, 6, 6, 6, 6, 6, 6, 6, 6, 6, ...                     0  \n17  [6, 6, 6, 6, 6, 6, 11, 11, 11, 11, 11, 11, 12,...                     0  \n18  [5, 5, 5, 7, 8, 8, 9, 9, 10, 10, 10, 10, 10, 1...                     3  \n19  [5, 5, 5, 5, 5, 5, 5, 5, 5, 5, 5, 5, 5, 5, 5, ...                    11  \n20  [5, 5, 5, 5, 5, 5, 10, 10, 10, 10, 10, 11, 11,...                     0  ",
      "text/html": "<div>\n<style scoped>\n    .dataframe tbody tr th:only-of-type {\n        vertical-align: middle;\n    }\n\n    .dataframe tbody tr th {\n        vertical-align: top;\n    }\n\n    .dataframe thead th {\n        text-align: right;\n    }\n</style>\n<table border=\"1\" class=\"dataframe\">\n  <thead>\n    <tr style=\"text-align: right;\">\n      <th></th>\n      <th>tokenizer</th>\n      <th>max_length</th>\n      <th>split_type</th>\n      <th>max_subwordtok_len_sents</th>\n      <th>subwordtok_lens_sents</th>\n      <th>num_sent_gt_maxlength</th>\n      <th>max_subwordtok_len_labels</th>\n      <th>subwordtok_lens_labels</th>\n      <th>num_lbl_gt_maxlength</th>\n    </tr>\n  </thead>\n  <tbody>\n    <tr>\n      <th>0</th>\n      <td>bigscience/bloomz-560m</td>\n      <td>2048</td>\n      <td>test</td>\n      <td>250</td>\n      <td>[1, 1, 2, 2, 2, 2, 2, 2, 2, 3, 3, 3, 3, 3, 3, ...</td>\n      <td>0</td>\n      <td>797</td>\n      <td>[4, 4, 4, 5, 6, 8, 8, 9, 9, 9, 9, 9, 9, 9, 9, ...</td>\n      <td>0</td>\n    </tr>\n    <tr>\n      <th>1</th>\n      <td>bigscience/bloomz-560m</td>\n      <td>2048</td>\n      <td>train</td>\n      <td>232</td>\n      <td>[1, 1, 1, 1, 1, 1, 1, 1, 1, 1, 1, 1, 1, 1, 1, ...</td>\n      <td>0</td>\n      <td>807</td>\n      <td>[4, 4, 4, 4, 4, 4, 4, 4, 4, 4, 4, 4, 4, 4, 4, ...</td>\n      <td>0</td>\n    </tr>\n    <tr>\n      <th>2</th>\n      <td>bigscience/bloomz-560m</td>\n      <td>2048</td>\n      <td>validation</td>\n      <td>144</td>\n      <td>[1, 2, 2, 2, 2, 2, 2, 3, 3, 3, 3, 3, 3, 3, 3, ...</td>\n      <td>0</td>\n      <td>500</td>\n      <td>[4, 4, 4, 4, 4, 4, 9, 9, 9, 9, 9, 9, 10, 10, 1...</td>\n      <td>0</td>\n    </tr>\n    <tr>\n      <th>3</th>\n      <td>facebook/mbart-large-cc25</td>\n      <td>1024</td>\n      <td>test</td>\n      <td>301</td>\n      <td>[3, 3, 3, 4, 4, 4, 4, 4, 4, 5, 5, 5, 5, 5, 5, ...</td>\n      <td>0</td>\n      <td>813</td>\n      <td>[6, 6, 6, 8, 9, 9, 11, 11, 11, 11, 11, 11, 11,...</td>\n      <td>0</td>\n    </tr>\n    <tr>\n      <th>4</th>\n      <td>facebook/mbart-large-cc25</td>\n      <td>1024</td>\n      <td>train</td>\n      <td>256</td>\n      <td>[3, 3, 3, 3, 3, 3, 3, 3, 3, 3, 3, 3, 3, 3, 3, ...</td>\n      <td>0</td>\n      <td>822</td>\n      <td>[6, 6, 6, 6, 6, 6, 6, 6, 6, 6, 6, 6, 6, 6, 6, ...</td>\n      <td>0</td>\n    </tr>\n    <tr>\n      <th>5</th>\n      <td>facebook/mbart-large-cc25</td>\n      <td>1024</td>\n      <td>validation</td>\n      <td>159</td>\n      <td>[3, 4, 4, 4, 4, 4, 5, 5, 5, 5, 5, 5, 5, 5, 5, ...</td>\n      <td>0</td>\n      <td>513</td>\n      <td>[6, 6, 6, 6, 6, 6, 11, 11, 11, 11, 11, 11, 12,...</td>\n      <td>0</td>\n    </tr>\n    <tr>\n      <th>6</th>\n      <td>facebook/mbart-large-50-many-to-one-mmt</td>\n      <td>1024</td>\n      <td>test</td>\n      <td>301</td>\n      <td>[3, 3, 3, 4, 4, 4, 4, 4, 4, 5, 5, 5, 5, 5, 5, ...</td>\n      <td>0</td>\n      <td>813</td>\n      <td>[6, 6, 6, 8, 9, 9, 11, 11, 11, 11, 11, 11, 11,...</td>\n      <td>0</td>\n    </tr>\n    <tr>\n      <th>7</th>\n      <td>facebook/mbart-large-50-many-to-one-mmt</td>\n      <td>1024</td>\n      <td>train</td>\n      <td>256</td>\n      <td>[3, 3, 3, 3, 3, 3, 3, 3, 3, 3, 3, 3, 3, 3, 3, ...</td>\n      <td>0</td>\n      <td>822</td>\n      <td>[6, 6, 6, 6, 6, 6, 6, 6, 6, 6, 6, 6, 6, 6, 6, ...</td>\n      <td>0</td>\n    </tr>\n    <tr>\n      <th>8</th>\n      <td>facebook/mbart-large-50-many-to-one-mmt</td>\n      <td>1024</td>\n      <td>validation</td>\n      <td>159</td>\n      <td>[3, 4, 4, 4, 4, 4, 5, 5, 5, 5, 5, 5, 5, 5, 5, ...</td>\n      <td>0</td>\n      <td>513</td>\n      <td>[6, 6, 6, 6, 6, 6, 11, 11, 11, 11, 11, 11, 12,...</td>\n      <td>0</td>\n    </tr>\n    <tr>\n      <th>9</th>\n      <td>google/mt5-base</td>\n      <td>1024</td>\n      <td>test</td>\n      <td>278</td>\n      <td>[2, 2, 2, 3, 3, 3, 3, 3, 3, 3, 3, 3, 3, 3, 3, ...</td>\n      <td>0</td>\n      <td>817</td>\n      <td>[5, 5, 5, 6, 7, 8, 9, 9, 10, 10, 10, 10, 11, 1...</td>\n      <td>0</td>\n    </tr>\n    <tr>\n      <th>10</th>\n      <td>google/mt5-base</td>\n      <td>1024</td>\n      <td>train</td>\n      <td>300</td>\n      <td>[2, 2, 2, 2, 2, 2, 2, 2, 2, 2, 2, 2, 2, 2, 2, ...</td>\n      <td>0</td>\n      <td>824</td>\n      <td>[5, 5, 5, 5, 5, 5, 5, 5, 5, 5, 5, 5, 5, 5, 5, ...</td>\n      <td>0</td>\n    </tr>\n    <tr>\n      <th>11</th>\n      <td>google/mt5-base</td>\n      <td>1024</td>\n      <td>validation</td>\n      <td>180</td>\n      <td>[2, 3, 3, 3, 3, 3, 3, 3, 3, 3, 3, 3, 3, 3, 3, ...</td>\n      <td>0</td>\n      <td>515</td>\n      <td>[5, 5, 5, 5, 5, 5, 10, 10, 10, 10, 11, 11, 11,...</td>\n      <td>0</td>\n    </tr>\n    <tr>\n      <th>12</th>\n      <td>t5-base</td>\n      <td>512</td>\n      <td>test</td>\n      <td>276</td>\n      <td>[2, 3, 3, 3, 3, 3, 3, 3, 4, 4, 4, 4, 4, 4, 4, ...</td>\n      <td>0</td>\n      <td>819</td>\n      <td>[5, 5, 5, 7, 8, 8, 9, 9, 10, 10, 10, 10, 10, 1...</td>\n      <td>3</td>\n    </tr>\n    <tr>\n      <th>13</th>\n      <td>t5-base</td>\n      <td>512</td>\n      <td>train</td>\n      <td>257</td>\n      <td>[2, 2, 2, 2, 2, 2, 2, 2, 2, 2, 2, 2, 2, 2, 2, ...</td>\n      <td>0</td>\n      <td>810</td>\n      <td>[5, 5, 5, 5, 5, 5, 5, 5, 5, 5, 5, 5, 5, 5, 5, ...</td>\n      <td>11</td>\n    </tr>\n    <tr>\n      <th>14</th>\n      <td>t5-base</td>\n      <td>512</td>\n      <td>validation</td>\n      <td>161</td>\n      <td>[2, 3, 3, 3, 3, 3, 3, 4, 4, 4, 4, 4, 4, 4, 4, ...</td>\n      <td>0</td>\n      <td>512</td>\n      <td>[5, 5, 5, 5, 5, 5, 10, 10, 10, 10, 10, 11, 11,...</td>\n      <td>0</td>\n    </tr>\n    <tr>\n      <th>15</th>\n      <td>facebook/nllb-200-3.3B</td>\n      <td>1024</td>\n      <td>test</td>\n      <td>286</td>\n      <td>[3, 3, 3, 4, 4, 4, 4, 4, 5, 5, 5, 5, 5, 5, 5, ...</td>\n      <td>0</td>\n      <td>809</td>\n      <td>[6, 6, 6, 8, 8, 9, 10, 10, 11, 11, 11, 11, 11,...</td>\n      <td>0</td>\n    </tr>\n    <tr>\n      <th>16</th>\n      <td>facebook/nllb-200-3.3B</td>\n      <td>1024</td>\n      <td>train</td>\n      <td>257</td>\n      <td>[3, 3, 3, 3, 3, 3, 3, 3, 3, 3, 3, 3, 3, 3, 3, ...</td>\n      <td>0</td>\n      <td>827</td>\n      <td>[6, 6, 6, 6, 6, 6, 6, 6, 6, 6, 6, 6, 6, 6, 6, ...</td>\n      <td>0</td>\n    </tr>\n    <tr>\n      <th>17</th>\n      <td>facebook/nllb-200-3.3B</td>\n      <td>1024</td>\n      <td>validation</td>\n      <td>158</td>\n      <td>[3, 4, 4, 4, 4, 5, 5, 5, 5, 5, 5, 5, 5, 5, 5, ...</td>\n      <td>0</td>\n      <td>512</td>\n      <td>[6, 6, 6, 6, 6, 6, 11, 11, 11, 11, 11, 11, 12,...</td>\n      <td>0</td>\n    </tr>\n    <tr>\n      <th>18</th>\n      <td>google/flan-t5-base</td>\n      <td>512</td>\n      <td>test</td>\n      <td>276</td>\n      <td>[2, 3, 3, 3, 3, 3, 3, 3, 4, 4, 4, 4, 4, 4, 4, ...</td>\n      <td>0</td>\n      <td>819</td>\n      <td>[5, 5, 5, 7, 8, 8, 9, 9, 10, 10, 10, 10, 10, 1...</td>\n      <td>3</td>\n    </tr>\n    <tr>\n      <th>19</th>\n      <td>google/flan-t5-base</td>\n      <td>512</td>\n      <td>train</td>\n      <td>257</td>\n      <td>[2, 2, 2, 2, 2, 2, 2, 2, 2, 2, 2, 2, 2, 2, 2, ...</td>\n      <td>0</td>\n      <td>810</td>\n      <td>[5, 5, 5, 5, 5, 5, 5, 5, 5, 5, 5, 5, 5, 5, 5, ...</td>\n      <td>11</td>\n    </tr>\n    <tr>\n      <th>20</th>\n      <td>google/flan-t5-base</td>\n      <td>512</td>\n      <td>validation</td>\n      <td>161</td>\n      <td>[2, 3, 3, 3, 3, 3, 3, 4, 4, 4, 4, 4, 4, 4, 4, ...</td>\n      <td>0</td>\n      <td>512</td>\n      <td>[5, 5, 5, 5, 5, 5, 10, 10, 10, 10, 10, 11, 11,...</td>\n      <td>0</td>\n    </tr>\n  </tbody>\n</table>\n</div>"
     },
     "execution_count": 36,
     "metadata": {},
     "output_type": "execute_result"
    }
   ],
   "source": [
    "df\n"
   ],
   "metadata": {
    "collapsed": false,
    "ExecuteTime": {
     "end_time": "2023-08-31T15:08:01.549030643Z",
     "start_time": "2023-08-31T15:08:01.529250212Z"
    }
   }
  },
  {
   "cell_type": "code",
   "execution_count": null,
   "outputs": [],
   "source": [],
   "metadata": {
    "collapsed": false
   }
  }
 ],
 "metadata": {
  "kernelspec": {
   "display_name": "Python 3",
   "language": "python",
   "name": "python3"
  },
  "language_info": {
   "codemirror_mode": {
    "name": "ipython",
    "version": 2
   },
   "file_extension": ".py",
   "mimetype": "text/x-python",
   "name": "python",
   "nbconvert_exporter": "python",
   "pygments_lexer": "ipython2",
   "version": "2.7.6"
  }
 },
 "nbformat": 4,
 "nbformat_minor": 0
}
