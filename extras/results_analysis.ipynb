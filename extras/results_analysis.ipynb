{
 "cells": [
  {
   "cell_type": "code",
   "execution_count": 1,
   "metadata": {
    "collapsed": true,
    "ExecuteTime": {
     "end_time": "2023-09-20T12:34:02.550247100Z",
     "start_time": "2023-09-20T12:34:02.545875900Z"
    }
   },
   "outputs": [],
   "source": [
    "import pandas as pd\n",
    "import seaborn as sns\n",
    "from pathlib import Path\n",
    "import matplotlib.pyplot as plt"
   ]
  },
  {
   "cell_type": "code",
   "execution_count": 1,
   "outputs": [],
   "source": [],
   "metadata": {
    "collapsed": false,
    "ExecuteTime": {
     "end_time": "2023-09-20T12:34:02.556794400Z",
     "start_time": "2023-09-20T12:34:02.550766700Z"
    }
   }
  },
  {
   "cell_type": "code",
   "execution_count": 2,
   "outputs": [
    {
     "ename": "PermissionError",
     "evalue": "[Errno 13] Permission denied: 'D:\\\\OneDrive - KU Leuven\\\\research\\\\2023\\\\CLIN\\\\results.xlsx'",
     "output_type": "error",
     "traceback": [
      "\u001B[1;31m---------------------------------------------------------------------------\u001B[0m",
      "\u001B[1;31mPermissionError\u001B[0m                           Traceback (most recent call last)",
      "Cell \u001B[1;32mIn[2], line 10\u001B[0m\n\u001B[0;32m      7\u001B[0m sns\u001B[38;5;241m.\u001B[39mset(font\u001B[38;5;241m=\u001B[39mprop\u001B[38;5;241m.\u001B[39mget_name(), palette\u001B[38;5;241m=\u001B[39mcustom_palette)\n\u001B[0;32m      9\u001B[0m pfin \u001B[38;5;241m=\u001B[39m Path(\u001B[38;5;124mr\u001B[39m\u001B[38;5;124m\"\u001B[39m\u001B[38;5;124mD:\u001B[39m\u001B[38;5;124m\\\u001B[39m\u001B[38;5;124mOneDrive - KU Leuven\u001B[39m\u001B[38;5;124m\\\u001B[39m\u001B[38;5;124mresearch\u001B[39m\u001B[38;5;124m\\\u001B[39m\u001B[38;5;124m2023\u001B[39m\u001B[38;5;124m\\\u001B[39m\u001B[38;5;124mCLIN\u001B[39m\u001B[38;5;124m\\\u001B[39m\u001B[38;5;124mresults.xlsx\u001B[39m\u001B[38;5;124m\"\u001B[39m)\n\u001B[1;32m---> 10\u001B[0m dfs \u001B[38;5;241m=\u001B[39m \u001B[43mpd\u001B[49m\u001B[38;5;241;43m.\u001B[39;49m\u001B[43mread_excel\u001B[49m\u001B[43m(\u001B[49m\u001B[43mpfin\u001B[49m\u001B[43m,\u001B[49m\u001B[43m \u001B[49m\u001B[43msheet_name\u001B[49m\u001B[38;5;241;43m=\u001B[39;49m\u001B[38;5;28;43;01mNone\u001B[39;49;00m\u001B[43m)\u001B[49m\n\u001B[0;32m     11\u001B[0m \u001B[38;5;28;01mfor\u001B[39;00m dfname, df \u001B[38;5;129;01min\u001B[39;00m dfs\u001B[38;5;241m.\u001B[39mitems():\n\u001B[0;32m     12\u001B[0m     \u001B[38;5;28;01mif\u001B[39;00m dfname \u001B[38;5;241m==\u001B[39m \u001B[38;5;124m\"\u001B[39m\u001B[38;5;124mGA\u001B[39m\u001B[38;5;124m\"\u001B[39m:\n",
      "File \u001B[1;32mF:\\python\\multilingual-text-to-amr\\.venv\\Lib\\site-packages\\pandas\\io\\excel\\_base.py:478\u001B[0m, in \u001B[0;36mread_excel\u001B[1;34m(io, sheet_name, header, names, index_col, usecols, dtype, engine, converters, true_values, false_values, skiprows, nrows, na_values, keep_default_na, na_filter, verbose, parse_dates, date_parser, date_format, thousands, decimal, comment, skipfooter, storage_options, dtype_backend)\u001B[0m\n\u001B[0;32m    476\u001B[0m \u001B[38;5;28;01mif\u001B[39;00m \u001B[38;5;129;01mnot\u001B[39;00m \u001B[38;5;28misinstance\u001B[39m(io, ExcelFile):\n\u001B[0;32m    477\u001B[0m     should_close \u001B[38;5;241m=\u001B[39m \u001B[38;5;28;01mTrue\u001B[39;00m\n\u001B[1;32m--> 478\u001B[0m     io \u001B[38;5;241m=\u001B[39m \u001B[43mExcelFile\u001B[49m\u001B[43m(\u001B[49m\u001B[43mio\u001B[49m\u001B[43m,\u001B[49m\u001B[43m \u001B[49m\u001B[43mstorage_options\u001B[49m\u001B[38;5;241;43m=\u001B[39;49m\u001B[43mstorage_options\u001B[49m\u001B[43m,\u001B[49m\u001B[43m \u001B[49m\u001B[43mengine\u001B[49m\u001B[38;5;241;43m=\u001B[39;49m\u001B[43mengine\u001B[49m\u001B[43m)\u001B[49m\n\u001B[0;32m    479\u001B[0m \u001B[38;5;28;01melif\u001B[39;00m engine \u001B[38;5;129;01mand\u001B[39;00m engine \u001B[38;5;241m!=\u001B[39m io\u001B[38;5;241m.\u001B[39mengine:\n\u001B[0;32m    480\u001B[0m     \u001B[38;5;28;01mraise\u001B[39;00m \u001B[38;5;167;01mValueError\u001B[39;00m(\n\u001B[0;32m    481\u001B[0m         \u001B[38;5;124m\"\u001B[39m\u001B[38;5;124mEngine should not be specified when passing \u001B[39m\u001B[38;5;124m\"\u001B[39m\n\u001B[0;32m    482\u001B[0m         \u001B[38;5;124m\"\u001B[39m\u001B[38;5;124man ExcelFile - ExcelFile already has the engine set\u001B[39m\u001B[38;5;124m\"\u001B[39m\n\u001B[0;32m    483\u001B[0m     )\n",
      "File \u001B[1;32mF:\\python\\multilingual-text-to-amr\\.venv\\Lib\\site-packages\\pandas\\io\\excel\\_base.py:1496\u001B[0m, in \u001B[0;36mExcelFile.__init__\u001B[1;34m(self, path_or_buffer, engine, storage_options)\u001B[0m\n\u001B[0;32m   1494\u001B[0m     ext \u001B[38;5;241m=\u001B[39m \u001B[38;5;124m\"\u001B[39m\u001B[38;5;124mxls\u001B[39m\u001B[38;5;124m\"\u001B[39m\n\u001B[0;32m   1495\u001B[0m \u001B[38;5;28;01melse\u001B[39;00m:\n\u001B[1;32m-> 1496\u001B[0m     ext \u001B[38;5;241m=\u001B[39m \u001B[43minspect_excel_format\u001B[49m\u001B[43m(\u001B[49m\n\u001B[0;32m   1497\u001B[0m \u001B[43m        \u001B[49m\u001B[43mcontent_or_path\u001B[49m\u001B[38;5;241;43m=\u001B[39;49m\u001B[43mpath_or_buffer\u001B[49m\u001B[43m,\u001B[49m\u001B[43m \u001B[49m\u001B[43mstorage_options\u001B[49m\u001B[38;5;241;43m=\u001B[39;49m\u001B[43mstorage_options\u001B[49m\n\u001B[0;32m   1498\u001B[0m \u001B[43m    \u001B[49m\u001B[43m)\u001B[49m\n\u001B[0;32m   1499\u001B[0m     \u001B[38;5;28;01mif\u001B[39;00m ext \u001B[38;5;129;01mis\u001B[39;00m \u001B[38;5;28;01mNone\u001B[39;00m:\n\u001B[0;32m   1500\u001B[0m         \u001B[38;5;28;01mraise\u001B[39;00m \u001B[38;5;167;01mValueError\u001B[39;00m(\n\u001B[0;32m   1501\u001B[0m             \u001B[38;5;124m\"\u001B[39m\u001B[38;5;124mExcel file format cannot be determined, you must specify \u001B[39m\u001B[38;5;124m\"\u001B[39m\n\u001B[0;32m   1502\u001B[0m             \u001B[38;5;124m\"\u001B[39m\u001B[38;5;124man engine manually.\u001B[39m\u001B[38;5;124m\"\u001B[39m\n\u001B[0;32m   1503\u001B[0m         )\n",
      "File \u001B[1;32mF:\\python\\multilingual-text-to-amr\\.venv\\Lib\\site-packages\\pandas\\io\\excel\\_base.py:1371\u001B[0m, in \u001B[0;36minspect_excel_format\u001B[1;34m(content_or_path, storage_options)\u001B[0m\n\u001B[0;32m   1368\u001B[0m \u001B[38;5;28;01mif\u001B[39;00m \u001B[38;5;28misinstance\u001B[39m(content_or_path, \u001B[38;5;28mbytes\u001B[39m):\n\u001B[0;32m   1369\u001B[0m     content_or_path \u001B[38;5;241m=\u001B[39m BytesIO(content_or_path)\n\u001B[1;32m-> 1371\u001B[0m \u001B[38;5;28;01mwith\u001B[39;00m \u001B[43mget_handle\u001B[49m\u001B[43m(\u001B[49m\n\u001B[0;32m   1372\u001B[0m \u001B[43m    \u001B[49m\u001B[43mcontent_or_path\u001B[49m\u001B[43m,\u001B[49m\u001B[43m \u001B[49m\u001B[38;5;124;43m\"\u001B[39;49m\u001B[38;5;124;43mrb\u001B[39;49m\u001B[38;5;124;43m\"\u001B[39;49m\u001B[43m,\u001B[49m\u001B[43m \u001B[49m\u001B[43mstorage_options\u001B[49m\u001B[38;5;241;43m=\u001B[39;49m\u001B[43mstorage_options\u001B[49m\u001B[43m,\u001B[49m\u001B[43m \u001B[49m\u001B[43mis_text\u001B[49m\u001B[38;5;241;43m=\u001B[39;49m\u001B[38;5;28;43;01mFalse\u001B[39;49;00m\n\u001B[0;32m   1373\u001B[0m \u001B[43m\u001B[49m\u001B[43m)\u001B[49m \u001B[38;5;28;01mas\u001B[39;00m handle:\n\u001B[0;32m   1374\u001B[0m     stream \u001B[38;5;241m=\u001B[39m handle\u001B[38;5;241m.\u001B[39mhandle\n\u001B[0;32m   1375\u001B[0m     stream\u001B[38;5;241m.\u001B[39mseek(\u001B[38;5;241m0\u001B[39m)\n",
      "File \u001B[1;32mF:\\python\\multilingual-text-to-amr\\.venv\\Lib\\site-packages\\pandas\\io\\common.py:868\u001B[0m, in \u001B[0;36mget_handle\u001B[1;34m(path_or_buf, mode, encoding, compression, memory_map, is_text, errors, storage_options)\u001B[0m\n\u001B[0;32m    859\u001B[0m         handle \u001B[38;5;241m=\u001B[39m \u001B[38;5;28mopen\u001B[39m(\n\u001B[0;32m    860\u001B[0m             handle,\n\u001B[0;32m    861\u001B[0m             ioargs\u001B[38;5;241m.\u001B[39mmode,\n\u001B[1;32m   (...)\u001B[0m\n\u001B[0;32m    864\u001B[0m             newline\u001B[38;5;241m=\u001B[39m\u001B[38;5;124m\"\u001B[39m\u001B[38;5;124m\"\u001B[39m,\n\u001B[0;32m    865\u001B[0m         )\n\u001B[0;32m    866\u001B[0m     \u001B[38;5;28;01melse\u001B[39;00m:\n\u001B[0;32m    867\u001B[0m         \u001B[38;5;66;03m# Binary mode\u001B[39;00m\n\u001B[1;32m--> 868\u001B[0m         handle \u001B[38;5;241m=\u001B[39m \u001B[38;5;28;43mopen\u001B[39;49m\u001B[43m(\u001B[49m\u001B[43mhandle\u001B[49m\u001B[43m,\u001B[49m\u001B[43m \u001B[49m\u001B[43mioargs\u001B[49m\u001B[38;5;241;43m.\u001B[39;49m\u001B[43mmode\u001B[49m\u001B[43m)\u001B[49m\n\u001B[0;32m    869\u001B[0m     handles\u001B[38;5;241m.\u001B[39mappend(handle)\n\u001B[0;32m    871\u001B[0m \u001B[38;5;66;03m# Convert BytesIO or file objects passed with an encoding\u001B[39;00m\n",
      "\u001B[1;31mPermissionError\u001B[0m: [Errno 13] Permission denied: 'D:\\\\OneDrive - KU Leuven\\\\research\\\\2023\\\\CLIN\\\\results.xlsx'"
     ]
    }
   ],
   "source": [
    "from matplotlib.font_manager import fontManager, FontProperties\n",
    "\n",
    "custom_palette = [\"#9FD1D0\", \"#66B2B0\", \"#F9C996\", \"#F39891\", \"#F9AA19\", \"#F9C996\"]\n",
    "fontpath = r\"C:\\Users\\bramv\\AppData\\Local\\Microsoft\\Windows\\Fonts\\karu-regular.ttf\"\n",
    "fontManager.addfont(fontpath)\n",
    "prop = FontProperties(fname=fontpath)\n",
    "sns.set(font=prop.get_name(), palette=custom_palette)\n",
    "\n",
    "pfin = Path(r\"D:\\OneDrive - KU Leuven\\research\\2023\\CLIN\\results.xlsx\")\n",
    "dfs = pd.read_excel(pfin, sheet_name=None)\n",
    "for dfname, df in dfs.items():\n",
    "    if dfname == \"GA\":\n",
    "        continue\n",
    "    df.dropna(axis=1, inplace=True, how=\"all\")\n",
    "    df[\"model_name\"] = df.apply(lambda row: f\"{row['model']} {row['variant']}\" if not pd.isna(row['variant']) else row['model'], axis=1)\n",
    "    df[\"model_name\"] = df[\"model_name\"].str.replace(\"mbart_large_cc25+\", \"MBART \").str.replace(\"zero_shot\", \"0-shot\").str.replace(\"one_shot\", \"1-shot\")\n",
    "    ci_low = df['smatch_f1'] - df['f1_lower']\n",
    "    ci_high = df['f1_upper'] - df['smatch_f1']\n",
    "    # Create a barplot with error bars\n",
    "    ax = sns.barplot(data=df, x=\"model_name\", y=\"smatch_f1\", errorbar=None)  # Set ci to \"sd\" for a custom confidence interval\n",
    "    plt.errorbar(x=range(len(df)), y=df['smatch_f1'], yerr=[ci_low, ci_high], fmt='none', capsize=5, color='black', barsabove=True)\n",
    "    \n",
    "    # Customize the CI bars with \"T\" shapes at the top and bottom\n",
    "    for i, row in df.iterrows():\n",
    "        if pd.isna(row[\"model_name\"]):\n",
    "            continue\n",
    "        ci_low = row['smatch_f1'] - row['f1_lower']\n",
    "        ci_high = row['f1_upper'] - row['smatch_f1']\n",
    "        ci_range = row['f1_upper'] - row['f1_lower']\n",
    "        plt.errorbar(x=i, y=row['smatch_f1'], yerr=[[ci_low], [ci_high]], fmt='none', color='black')\n",
    "        # Add text with score and CI to the top of the bars\n",
    "        # Not completely correct since the f1 score that we have is just calculated over the full corpus\n",
    "        # and the bootstrap CI is separate. So smatch_f1 is not actually the mean in our case because smatchpp does not return that\n",
    "        ax.text(x=i, y=-12+row['smatch_f1'], s=f'{row[\"smatch_f1\"]:.1f}\\n[{row[\"f1_lower\"]:.1f}, {row[\"f1_upper\"]:.1f}]', ha='center', va='bottom')\n",
    "\n",
    "    # Add labels and title\n",
    "    plt.xlabel('Models')\n",
    "    plt.ylabel('Smatch F1 (95%CI)')\n",
    "    plt.xticks(rotation=10)\n",
    "    plt.title(f'Results for {dfname}')\n",
    "\n",
    "    fig = plt.gcf()\n",
    "    fig.tight_layout()\n",
    "    plt.show()\n",
    "    plt.draw()\n",
    "    fig.savefig(rf\"D:\\OneDrive - KU Leuven\\research\\2023\\CLIN\\plots\\results-barplot-{dfname}.png\", dpi=600)\n",
    "    fig.savefig(rf\"D:\\OneDrive - KU Leuven\\research\\2023\\CLIN\\plots\\results-barplot-{dfname}.svg\")\n",
    "        "
   ],
   "metadata": {
    "collapsed": false,
    "ExecuteTime": {
     "end_time": "2023-09-20T12:34:03.093732800Z",
     "start_time": "2023-09-20T12:34:02.554764700Z"
    }
   }
  },
  {
   "cell_type": "code",
   "execution_count": 4,
   "outputs": [
    {
     "name": "stderr",
     "output_type": "stream",
     "text": [
      "ignoring epigraph data for duplicate triple: ('m2', ':ARG2', 'c6')\n"
     ]
    },
    {
     "name": "stdout",
     "output_type": "stream",
     "text": [
      "dev 1722\n"
     ]
    },
    {
     "name": "stderr",
     "output_type": "stream",
     "text": [
      "ignoring epigraph data for duplicate triple: ('d', ':month', '11')\n"
     ]
    },
    {
     "name": "stdout",
     "output_type": "stream",
     "text": [
      "test 1898\n"
     ]
    },
    {
     "name": "stderr",
     "output_type": "stream",
     "text": [
      "ignoring epigraph data for duplicate triple: ('w', ':polarity', '-')\n",
      "ignoring epigraph data for duplicate triple: ('i', ':ARG0', 'c')\n",
      "ignoring epigraph data for duplicate triple: ('e', ':polarity', '-')\n",
      "ignoring epigraph data for duplicate triple: ('c', ':mod', 'h')\n",
      "ignoring epigraph data for duplicate triple: ('p', ':mod', 'c')\n",
      "ignoring epigraph data for duplicate triple: ('p5', ':quant', '10')\n",
      "ignoring epigraph data for duplicate triple: ('i2', ':mod', 'e')\n",
      "ignoring epigraph data for duplicate triple: ('d', ':time', '\"17:48\"')\n",
      "ignoring epigraph data for duplicate triple: ('j2', ':mod', 'f')\n",
      "ignoring epigraph data for duplicate triple: ('e', ':time', 's')\n",
      "ignoring epigraph data for duplicate triple: ('c', ':ARG1', 'g')\n",
      "ignoring epigraph data for duplicate triple: ('p', ':mod', 'c')\n"
     ]
    },
    {
     "name": "stdout",
     "output_type": "stream",
     "text": [
      "training 55635\n"
     ]
    }
   ],
   "source": [
    "import penman\n",
    "\n",
    "for pdsplit in Path(r\"F:\\python\\multilingual-text-to-amr\\data\\amrs_fixed\\split\").glob(\"*\"):\n",
    "    split_name = pdsplit.stem\n",
    "    num_graphs = 0\n",
    "    for pfin in pdsplit.rglob(\"*.txt\"):\n",
    "        lines = pfin.read_text(encoding=\"utf-8\").splitlines()\n",
    "        graphs = list(penman.iterdecode(lines))\n",
    "        num_graphs += len(graphs)\n",
    "    print(split_name, num_graphs)"
   ],
   "metadata": {
    "collapsed": false,
    "ExecuteTime": {
     "end_time": "2023-09-20T12:34:35.163727800Z",
     "start_time": "2023-09-20T12:34:18.104010900Z"
    }
   }
  }
 ],
 "metadata": {
  "kernelspec": {
   "display_name": "Python 3",
   "language": "python",
   "name": "python3"
  },
  "language_info": {
   "codemirror_mode": {
    "name": "ipython",
    "version": 2
   },
   "file_extension": ".py",
   "mimetype": "text/x-python",
   "name": "python",
   "nbconvert_exporter": "python",
   "pygments_lexer": "ipython2",
   "version": "2.7.6"
  }
 },
 "nbformat": 4,
 "nbformat_minor": 0
}
